{
  "nbformat": 4,
  "nbformat_minor": 0,
  "metadata": {
    "colab": {
      "name": "Kopia notatnika Untitled0.ipynb",
      "provenance": [],
      "authorship_tag": "ABX9TyOvu6x7qW8fMZ6koj6U7YHU",
      "include_colab_link": true
    },
    "kernelspec": {
      "name": "python3",
      "display_name": "Python 3"
    },
    "language_info": {
      "name": "python"
    }
  },
  "cells": [
    {
      "cell_type": "markdown",
      "metadata": {
        "id": "view-in-github",
        "colab_type": "text"
      },
      "source": [
        "<a href=\"https://colab.research.google.com/github/Anna-Filip/Repozytorium1/blob/main/Kopia_notatnika_Untitled0.ipynb\" target=\"_parent\"><img src=\"https://colab.research.google.com/assets/colab-badge.svg\" alt=\"Open In Colab\"/></a>"
      ]
    },
    {
      "cell_type": "code",
      "execution_count": null,
      "metadata": {
        "colab": {
          "base_uri": "https://localhost:8080/"
        },
        "id": "Bmt6uJc0o5XT",
        "outputId": "462b6916-0303-462c-90a7-33e88b35803c"
      },
      "outputs": [
        {
          "output_type": "stream",
          "name": "stdout",
          "text": [
            " * Starting MySQL database server mysqld\n",
            "   ...done.\n",
            "ERROR 1045 (28000): Access denied for user 'root'@'localhost' (using password: NO)\n"
          ]
        }
      ],
      "source": [
        "!apt-get install mysql-server > /dev/null\n",
        "!service mysql start\n",
        "!mysql -e \"ALTER USER 'root'@'localhost' IDENTIFIED WITH mysql_native_password BY 'root'\"\n",
        "!pip -q install PyMySQL\n"
      ]
    },
    {
      "cell_type": "code",
      "source": [
        "!pip install sqlalchemy-utils"
      ],
      "metadata": {
        "colab": {
          "base_uri": "https://localhost:8080/"
        },
        "id": "lx2YY4rSpBOv",
        "outputId": "800e869d-f5d1-4583-9918-877bf03b9b59"
      },
      "execution_count": null,
      "outputs": [
        {
          "output_type": "stream",
          "name": "stdout",
          "text": [
            "Requirement already satisfied: sqlalchemy-utils in /usr/local/lib/python3.7/dist-packages (0.38.2)\n",
            "Requirement already satisfied: six in /usr/local/lib/python3.7/dist-packages (from sqlalchemy-utils) (1.15.0)\n",
            "Requirement already satisfied: SQLAlchemy>=1.0 in /usr/local/lib/python3.7/dist-packages (from sqlalchemy-utils) (1.4.32)\n",
            "Requirement already satisfied: importlib-metadata in /usr/local/lib/python3.7/dist-packages (from SQLAlchemy>=1.0->sqlalchemy-utils) (4.11.3)\n",
            "Requirement already satisfied: greenlet!=0.4.17 in /usr/local/lib/python3.7/dist-packages (from SQLAlchemy>=1.0->sqlalchemy-utils) (1.1.2)\n",
            "Requirement already satisfied: typing-extensions>=3.6.4 in /usr/local/lib/python3.7/dist-packages (from importlib-metadata->SQLAlchemy>=1.0->sqlalchemy-utils) (3.10.0.2)\n",
            "Requirement already satisfied: zipp>=0.5 in /usr/local/lib/python3.7/dist-packages (from importlib-metadata->SQLAlchemy>=1.0->sqlalchemy-utils) (3.7.0)\n"
          ]
        }
      ]
    },
    {
      "cell_type": "code",
      "source": [
        "from sqlalchemy import create_engine\n",
        "from sqlalchemy_utils import database_exists, create_database"
      ],
      "metadata": {
        "id": "NTYHDGhHpTTf"
      },
      "execution_count": null,
      "outputs": []
    },
    {
      "cell_type": "code",
      "source": [
        "engine = create_engine(\"sqlite:///studenci.db\", echo=True)\n",
        "if not database_exists(engine.url):\n",
        "    create_database(engine.url)"
      ],
      "metadata": {
        "id": "6PUBoCt7pTlc"
      },
      "execution_count": null,
      "outputs": []
    },
    {
      "cell_type": "code",
      "source": [
        "from sqlalchemy.orm import sessionmaker"
      ],
      "metadata": {
        "id": "8IPYknzbpTox"
      },
      "execution_count": null,
      "outputs": []
    },
    {
      "cell_type": "code",
      "source": [
        "Session = sessionmaker(bind=engine)"
      ],
      "metadata": {
        "id": "UNA-7rC5pTq8"
      },
      "execution_count": null,
      "outputs": []
    },
    {
      "cell_type": "code",
      "source": [
        "from sqlalchemy.orm import declarative_base\n",
        "from sqlalchemy import Column, Integer, String, Float"
      ],
      "metadata": {
        "id": "OFGAfnCnpTuI"
      },
      "execution_count": null,
      "outputs": []
    },
    {
      "cell_type": "code",
      "source": [
        "Base = declarative_base()"
      ],
      "metadata": {
        "id": "VdfSQJKWpTwC"
      },
      "execution_count": null,
      "outputs": []
    },
    {
      "cell_type": "code",
      "source": [
        "class Students(Base):\n",
        "     __tablename__ = 'Students'\n",
        "\n",
        "     id = Column(Integer, primary_key=True)\n",
        "     full_name = Column(String)\n",
        "     grade = Column(Integer)\n",
        "     zadłużenie = Column (Float)\n",
        "     def __repr__(self):\n",
        "           return \"<Students(full_name='%s', grade='%s', zadłużenie='%s')>\" % (\n",
        "           self.full_name, self.grade, self.zadłużenie)\n",
        "\n",
        "\n"
      ],
      "metadata": {
        "id": "mK9KsTidpTzu"
      },
      "execution_count": null,
      "outputs": []
    },
    {
      "cell_type": "code",
      "source": [
        "session1 = Session()\n",
        "     "
      ],
      "metadata": {
        "id": "OgnrlhldqPt6"
      },
      "execution_count": null,
      "outputs": []
    },
    {
      "cell_type": "code",
      "source": [
        "session1.add_all(\n",
        "    [\n",
        "     Students(full_name='Oskar Duda', grade='3', zadłużenie= 1345.43),\n",
        "     Students(full_name='Mario Gra', grade='6', zadłużenie=8887.8)\n",
        "    ]\n",
        ")"
      ],
      "metadata": {
        "id": "sSpWhzfLqP4N"
      },
      "execution_count": null,
      "outputs": []
    },
    {
      "cell_type": "code",
      "source": [
        "Base.metadata.create_all(engine)"
      ],
      "metadata": {
        "colab": {
          "base_uri": "https://localhost:8080/"
        },
        "id": "hGeJPIZ5qP6S",
        "outputId": "943099d9-15bd-464b-919e-70cb739f58bf"
      },
      "execution_count": null,
      "outputs": [
        {
          "output_type": "stream",
          "name": "stdout",
          "text": [
            "2022-04-02 09:56:58,276 INFO sqlalchemy.engine.Engine BEGIN (implicit)\n",
            "2022-04-02 09:56:58,279 INFO sqlalchemy.engine.Engine PRAGMA main.table_info(\"Students\")\n",
            "2022-04-02 09:56:58,281 INFO sqlalchemy.engine.Engine [raw sql] ()\n",
            "2022-04-02 09:56:58,283 INFO sqlalchemy.engine.Engine COMMIT\n"
          ]
        }
      ]
    },
    {
      "cell_type": "code",
      "source": [
        "session1.commit()"
      ],
      "metadata": {
        "colab": {
          "base_uri": "https://localhost:8080/"
        },
        "id": "-YjAyx3wqP9T",
        "outputId": "c57f327b-0721-45be-b6d6-1f1f4c5a8741"
      },
      "execution_count": null,
      "outputs": [
        {
          "output_type": "stream",
          "name": "stdout",
          "text": [
            "2022-04-02 09:56:58,294 INFO sqlalchemy.engine.Engine BEGIN (implicit)\n",
            "2022-04-02 09:56:58,298 INFO sqlalchemy.engine.Engine INSERT INTO \"Students\" (full_name, grade, \"zadłużenie\") VALUES (?, ?, ?)\n",
            "2022-04-02 09:56:58,301 INFO sqlalchemy.engine.Engine [generated in 0.00253s] ('Oskar Duda', '3', 1345.43)\n",
            "2022-04-02 09:56:58,303 INFO sqlalchemy.engine.Engine INSERT INTO \"Students\" (full_name, grade, \"zadłużenie\") VALUES (?, ?, ?)\n",
            "2022-04-02 09:56:58,306 INFO sqlalchemy.engine.Engine [cached since 0.007577s ago] ('Mario Gra', '6', 8887.8)\n",
            "2022-04-02 09:56:58,308 INFO sqlalchemy.engine.Engine COMMIT\n"
          ]
        }
      ]
    },
    {
      "cell_type": "code",
      "source": [
        "from sqlalchemy import text"
      ],
      "metadata": {
        "id": "32JMdxjXqP_c"
      },
      "execution_count": null,
      "outputs": []
    },
    {
      "cell_type": "code",
      "source": [
        "sql = \"\"\"\n",
        "SELECT * \n",
        "FROM Students\n",
        "\"\"\"\n",
        "result = engine.execute(sql)\n",
        "for row in result:\n",
        "  print(row)"
      ],
      "metadata": {
        "colab": {
          "base_uri": "https://localhost:8080/"
        },
        "id": "s4RfClSxqQCb",
        "outputId": "293ad92e-bb39-47ac-c57e-2aa10fc10693"
      },
      "execution_count": null,
      "outputs": [
        {
          "output_type": "stream",
          "name": "stdout",
          "text": [
            "2022-04-02 09:57:55,652 INFO sqlalchemy.engine.Engine \n",
            "SELECT * \n",
            "FROM Students\n",
            "\n",
            "2022-04-02 09:57:55,654 INFO sqlalchemy.engine.Engine [raw sql] ()\n",
            "(1, 'Oskar Duda', 3, 1345.43)\n",
            "(2, 'Mario Gra', 6, 8887.8)\n"
          ]
        }
      ]
    },
    {
      "cell_type": "code",
      "source": [
        ""
      ],
      "metadata": {
        "id": "akva4iCgqQER"
      },
      "execution_count": null,
      "outputs": []
    },
    {
      "cell_type": "code",
      "source": [
        ""
      ],
      "metadata": {
        "id": "j9ZOnfw5qQIJ"
      },
      "execution_count": null,
      "outputs": []
    }
  ]
}